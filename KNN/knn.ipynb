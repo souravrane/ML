{
 "cells": [
  {
   "cell_type": "code",
   "execution_count": 31,
   "metadata": {},
   "outputs": [],
   "source": [
    "from sklearn.datasets import load_iris\n",
    "iris = load_iris()"
   ]
  },
  {
   "cell_type": "code",
   "execution_count": 32,
   "metadata": {},
   "outputs": [],
   "source": [
    "x = iris.data\n",
    "y = iris.target"
   ]
  },
  {
   "cell_type": "code",
   "execution_count": 33,
   "metadata": {
    "collapsed": true
   },
   "outputs": [],
   "source": [
    "from sklearn.model_selection import train_test_split\n",
    "xtrain , xtest , ytrain ,ytest = train_test_split(x,y,test_size = 0.4)"
   ]
  },
  {
   "cell_type": "code",
   "execution_count": 34,
   "metadata": {},
   "outputs": [
    {
     "data": {
      "text/plain": [
       "KNeighborsClassifier(algorithm='auto', leaf_size=30, metric='minkowski',\n",
       "           metric_params=None, n_jobs=1, n_neighbors=3, p=2,\n",
       "           weights='uniform')"
      ]
     },
     "execution_count": 34,
     "metadata": {},
     "output_type": "execute_result"
    }
   ],
   "source": [
    "from sklearn.neighbors import KNeighborsClassifier\n",
    "knn = KNeighborsClassifier(n_neighbors=3)\n",
    "knn.fit(xtrain,ytrain)"
   ]
  },
  {
   "cell_type": "code",
   "execution_count": 35,
   "metadata": {
    "collapsed": true
   },
   "outputs": [],
   "source": [
    "ypred = knn.predict(xtest)"
   ]
  },
  {
   "cell_type": "code",
   "execution_count": 36,
   "metadata": {},
   "outputs": [
    {
     "name": "stdout",
     "output_type": "stream",
     "text": [
      "accuracy :  0.95\n"
     ]
    }
   ],
   "source": [
    "from sklearn import metrics\n",
    "print(\"accuracy : \" , metrics.accuracy_score(ytest,ypred))"
   ]
  },
  {
   "cell_type": "code",
   "execution_count": 37,
   "metadata": {},
   "outputs": [
    {
     "name": "stdout",
     "output_type": "stream",
     "text": [
      "Predicted \t Actual\n",
      "virginica \t virginica\n",
      "setosa \t setosa\n",
      "virginica \t virginica\n",
      "setosa \t setosa\n",
      "versicolor \t versicolor\n",
      "setosa \t setosa\n",
      "setosa \t setosa\n",
      "setosa \t setosa\n",
      "virginica \t virginica\n",
      "setosa \t setosa\n",
      "setosa \t setosa\n",
      "virginica \t virginica\n",
      "versicolor \t versicolor\n",
      "virginica \t versicolor\n",
      "virginica \t virginica\n",
      "virginica \t virginica\n",
      "virginica \t virginica\n",
      "versicolor \t versicolor\n",
      "versicolor \t versicolor\n",
      "virginica \t virginica\n",
      "setosa \t setosa\n",
      "setosa \t setosa\n",
      "versicolor \t versicolor\n",
      "versicolor \t versicolor\n",
      "setosa \t setosa\n",
      "virginica \t virginica\n",
      "versicolor \t versicolor\n",
      "virginica \t virginica\n",
      "setosa \t setosa\n",
      "versicolor \t versicolor\n",
      "setosa \t setosa\n",
      "virginica \t virginica\n",
      "setosa \t setosa\n",
      "virginica \t virginica\n",
      "virginica \t versicolor\n",
      "versicolor \t versicolor\n",
      "setosa \t setosa\n",
      "setosa \t setosa\n",
      "setosa \t setosa\n",
      "versicolor \t versicolor\n",
      "versicolor \t virginica\n",
      "setosa \t setosa\n",
      "virginica \t virginica\n",
      "setosa \t setosa\n",
      "versicolor \t versicolor\n",
      "setosa \t setosa\n",
      "versicolor \t versicolor\n",
      "setosa \t setosa\n",
      "setosa \t setosa\n",
      "setosa \t setosa\n",
      "versicolor \t versicolor\n",
      "virginica \t virginica\n",
      "setosa \t setosa\n",
      "virginica \t virginica\n",
      "versicolor \t versicolor\n",
      "virginica \t virginica\n",
      "versicolor \t versicolor\n",
      "versicolor \t versicolor\n",
      "versicolor \t versicolor\n",
      "virginica \t virginica\n"
     ]
    }
   ],
   "source": [
    "preds = knn.predict(xtest)\n",
    "set1 = [iris.target_names[p] for p in preds]\n",
    "set2 = [iris.target_names[p] for p in ytest]\n",
    "print(\"Predicted \\t Actual\")\n",
    "for i in range(len(xtest)):\n",
    "    print(set1[i],\"\\t\",set2[i])"
   ]
  },
  {
   "cell_type": "code",
   "execution_count": null,
   "metadata": {
    "collapsed": true
   },
   "outputs": [],
   "source": []
  }
 ],
 "metadata": {
  "kernelspec": {
   "display_name": "Python 3",
   "language": "python",
   "name": "python3"
  },
  "language_info": {
   "codemirror_mode": {
    "name": "ipython",
    "version": 3
   },
   "file_extension": ".py",
   "mimetype": "text/x-python",
   "name": "python",
   "nbconvert_exporter": "python",
   "pygments_lexer": "ipython3",
   "version": "3.6.3"
  }
 },
 "nbformat": 4,
 "nbformat_minor": 2
}
