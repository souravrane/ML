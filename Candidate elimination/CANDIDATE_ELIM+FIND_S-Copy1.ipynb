{
 "cells": [
  {
   "cell_type": "code",
   "execution_count": 9,
   "metadata": {
    "collapsed": true
   },
   "outputs": [],
   "source": [
    "import pandas as pd\n",
    "POSITIVE='yes'\n",
    "NEGATIVE='no'\n"
   ]
  },
  {
   "cell_type": "code",
   "execution_count": 10,
   "metadata": {
    "collapsed": true
   },
   "outputs": [],
   "source": [
    "def find_s(train):\n",
    "    (nr,nc)=train.shape\n",
    "    h=list(train.iloc[0,:-1])\n",
    "    for i in range(1,nr):\n",
    "        if train.iloc[i,-1]==POSITIVE:\n",
    "            for j in range(nc-1):\n",
    "                if train.iloc[i,j]!=h[j]:\n",
    "                    h[j]='?'\n",
    "    return h\n",
    "        "
   ]
  },
  {
   "cell_type": "code",
   "execution_count": 11,
   "metadata": {
    "collapsed": true
   },
   "outputs": [],
   "source": [
    "def apply(example,hyp):\n",
    "    nc=len(hyp)\n",
    "    for i in range(nc):\n",
    "        if example[i]!=hyp[i] and hyp[i]!='?':\n",
    "            return NEGATIVE\n",
    "    return POSITIVE"
   ]
  },
  {
   "cell_type": "code",
   "execution_count": 15,
   "metadata": {
    "collapsed": true
   },
   "outputs": [],
   "source": [
    "def candidate(train):\n",
    "    (nr,nc)=train.shape\n",
    "    specific_hyp=find_s(train)\n",
    "    generic_hyp=[['?']*(nc-1)]\n",
    "    \n",
    "    ok=True\n",
    "    for i in range(1,nr):\n",
    "        if train.iloc[i,-1]==NEGATIVE:\n",
    "            if apply(train.iloc[i,:-1],specific_hyp)==POSITIVE:\n",
    "                ok=False\n",
    "                break\n",
    "            new_gen_list=[]\n",
    "            for gen_h in generic_hyp:\n",
    "                if apply(train.iloc[i,:-1],gen_h)==POSITIVE:\n",
    "                    generic_hyp.remove(gen_h)\n",
    "                    new_gen_list.extend(find_specific(gen_h,specific_hyp,train.iloc[i,:-1]))\n",
    "            generic_hyp.extend(new_gen_list)\n",
    "    if ok:return [specific_hyp]+generic_hyp\n",
    "    else: return []"
   ]
  },
  {
   "cell_type": "code",
   "execution_count": 13,
   "metadata": {
    "collapsed": true
   },
   "outputs": [],
   "source": [
    "def find_specific(gen_hyp,spe_hyp,neg_example):\n",
    "    nc=len(gen_hyp)\n",
    "    list_hyp=[]\n",
    "    for i in range(nc):\n",
    "        if gen_hyp[i]=='?' and spe_hyp[i]!=\"?\":\n",
    "            hyp=gen_hyp.copy()\n",
    "            hyp[i]=spe_hyp[i]\n",
    "            if apply(neg_example,hyp)==NEGATIVE:\n",
    "                list_hyp.append(hyp)\n",
    "                print(list_hyp)\n",
    "    return list_hyp\n",
    "    "
   ]
  },
  {
   "cell_type": "code",
   "execution_count": 16,
   "metadata": {},
   "outputs": [
    {
     "name": "stdout",
     "output_type": "stream",
     "text": [
      "[['sunny', '?', '?', '?', '?', '?']]\n",
      "[['sunny', '?', '?', '?', '?', '?'], ['?', 'warm', '?', '?', '?', '?']]\n",
      "[['sunny', 'warm', '?', 'strong', '?', '?'], ['sunny', '?', '?', '?', '?', '?'], ['?', 'warm', '?', '?', '?', '?']]\n"
     ]
    }
   ],
   "source": [
    "dataset=pd.read_csv('enjoy.csv')\n",
    "print(candidate(dataset))"
   ]
  }
 ],
 "metadata": {
  "kernelspec": {
   "display_name": "Python 3",
   "language": "python",
   "name": "python3"
  },
  "language_info": {
   "codemirror_mode": {
    "name": "ipython",
    "version": 3
   },
   "file_extension": ".py",
   "mimetype": "text/x-python",
   "name": "python",
   "nbconvert_exporter": "python",
   "pygments_lexer": "ipython3",
   "version": "3.6.3"
  }
 },
 "nbformat": 4,
 "nbformat_minor": 2
}
