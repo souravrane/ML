{
 "cells": [
  {
   "cell_type": "code",
   "execution_count": null,
   "metadata": {
    "collapsed": true,
    "scrolled": false
   },
   "outputs": [],
   "source": []
  },
  {
   "cell_type": "code",
   "execution_count": 15,
   "metadata": {},
   "outputs": [
    {
     "name": "stdout",
     "output_type": "stream",
     "text": [
      "(target,distinct values) (2257, 35788)\n",
      "4687\n",
      "accuracy 0.9340878828229028\n",
      "CLassification report                         precision    recall  f1-score   support\n",
      "\n",
      "           alt.atheism       0.92      0.90      0.91       319\n",
      "         comp.graphics       0.95      0.95      0.95       389\n",
      "               sci.med       0.96      0.91      0.93       396\n",
      "soc.religion.christian       0.91      0.97      0.94       398\n",
      "\n",
      "           avg / total       0.93      0.93      0.93      1502\n",
      "\n",
      "confusion matrix [[288   4   3  24]\n",
      " [  8 370   8   3]\n",
      " [ 12  13 360  11]\n",
      " [  5   4   4 385]]\n"
     ]
    }
   ],
   "source": [
    "from sklearn.datasets import fetch_20newsgroups\n",
    "categories=['alt.atheism', 'soc.religion.christian','comp.graphics', 'sci.med']\n",
    "\n",
    "data_train=fetch_20newsgroups(subset='train',categories=categories,shuffle=True,random_state=42)\n",
    "data_test=fetch_20newsgroups(subset='test',categories=categories,shuffle=True,random_state=42)\n",
    "\n",
    "from sklearn.feature_extraction.text import CountVectorizer\n",
    "cnt_vect=CountVectorizer()\n",
    "X_train_count=cnt_vect.fit_transform(data_train.data)\n",
    "\n",
    "print(\"(target,distinct values)\",X_train_count.shape)\n",
    "\n",
    "print(cnt_vect.vocabulary_.get('algo'))\n",
    "\n",
    "# prediction.\n",
    "from sklearn.naive_bayes import MultinomialNB\n",
    "\n",
    "clf=MultinomialNB().fit(X_train_count,data_train.target)\n",
    "\n",
    "X_new_count=cnt_vect.transform(data_test.data)\n",
    "\n",
    "pred=clf.predict(X_new_count)\n",
    "\n",
    "from sklearn import metrics\n",
    "print(\"accuracy\",metrics.accuracy_score(data_test.target,pred))\n",
    "\n",
    "print(\"CLassification report\",metrics.classification_report(data_test.target,pred,target_names=data_test.target_names))\n",
    "print(\"confusion matrix\",metrics.confusion_matrix(data_test.target,pred))"
   ]
  },
  {
   "cell_type": "code",
   "execution_count": null,
   "metadata": {
    "collapsed": true
   },
   "outputs": [],
   "source": []
  }
 ],
 "metadata": {
  "kernelspec": {
   "display_name": "Python 3",
   "language": "python",
   "name": "python3"
  },
  "language_info": {
   "codemirror_mode": {
    "name": "ipython",
    "version": 3
   },
   "file_extension": ".py",
   "mimetype": "text/x-python",
   "name": "python",
   "nbconvert_exporter": "python",
   "pygments_lexer": "ipython3",
   "version": "3.6.3"
  }
 },
 "nbformat": 4,
 "nbformat_minor": 2
}
